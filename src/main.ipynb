{
 "cells": [
  {
   "cell_type": "code",
   "execution_count": 3,
   "metadata": {},
   "outputs": [],
   "source": [
    "from py_process_data import process_dataset, parsing\n",
    "import numpy as np\n",
    "import matplotlib.pyplot as plt\n",
    "from PIL import Image, ImageDraw\n",
    "from shapely.geometry import Point\n",
    "from shapely.geometry import Polygon\n",
    "%matplotlib inline"
   ]
  },
  {
   "cell_type": "code",
   "execution_count": 8,
   "metadata": {},
   "outputs": [
    {
     "name": "stdout",
     "output_type": "stream",
     "text": [
      "Mean of in between and inside pixels 89.62264150943396, 246.19390862944164\n",
      "Standard deviation of in-between pixels and inside pixels 44.8337500967676. 44.8337500967676\n"
     ]
    }
   ],
   "source": [
    "def find_pixels_between_contours():\n",
    "    \"\"\"\n",
    "    Find the area between outside and inside contours. I am using hard coded image names just to prove the concept.\n",
    "    Since I need to extract the contours. I didn't want to change the pipeline to output contours as well.\n",
    "    \"\"\"\n",
    "    dicom_file = parsing.parse_dicom_file('../final_data/dicoms/SCD0000101/59.dcm')\n",
    "    o_contours = parsing.parse_contour_file(\n",
    "        '../final_data/contourfiles/SC-HF-I-1/o-contours/IM-0001-0059-ocontour-manual.txt')\n",
    "    i_contours = parsing.parse_contour_file(\n",
    "        '../final_data/contourfiles/SC-HF-I-1/i-contours/IM-0001-0059-icontour-manual.txt')\n",
    "    o_masks = parsing.poly_to_mask(o_contours, dicom_file.shape[0], dicom_file.shape[1])\n",
    "    i_masks = parsing.poly_to_mask(i_contours, dicom_file.shape[0], dicom_file.shape[1])\n",
    "    diff_masks = o_masks ^ i_masks\n",
    "    #plt.imshow(diff_masks)\n",
    "    # Get all pixels inside i-contours\n",
    "    inside_pixels = []\n",
    "    for p in np.argwhere(i_masks):\n",
    "        inside_pixels.append(dicom_file[p[0]][p[1]])\n",
    "    \n",
    "    #Get all the pixels in between i-contours and o-contours\n",
    "    diff_pixels = []\n",
    "    for p in np.argwhere(diff_masks):\n",
    "        diff_pixels.append(dicom_file[p[0]][p[1]])\n",
    "    print(\"Mean of in between and inside pixels {}, {}\".format(np.mean(diff_pixels), np.mean(inside_pixels)))\n",
    "    print(\"Standard deviation of in-between pixels and inside pixels {}. {}\".format(np.std(diff_pixels), np.std(diff_pixels)))\n",
    "    return inside_pixels, diff_pixels\n",
    "inside_pixels, diff_pixels = find_pixels_between_contours()"
   ]
  },
  {
   "cell_type": "code",
   "execution_count": 6,
   "metadata": {},
   "outputs": [
    {
     "data": {
      "image/png": "[encoded data removed]",
      "text/plain": [
       "<matplotlib.figure.Figure at 0x10bb5a240>"
      ]
     },
     "metadata": {},
     "output_type": "display_data"
    }
   ],
   "source": [
    "def plot_histograms(inside_pixels, in_between_pixels):\n",
    "    \"\"\"\n",
    "    Given the inside pixels and the in-between pixels, plot the respective histograms as subplots\n",
    "    \"\"\"\n",
    "    f, axarr = plt.subplots(2, sharex=True)\n",
    "    axarr[0].hist(inside_pixels)\n",
    "    axarr[0].set_title('Distribution of pixels inside the contour')\n",
    "    axarr[1].set_title('Distribution of pixels between the inner and outer contour')\n",
    "    axarr[1].hist(diff_pixels)\n",
    "plot_histograms(inside_pixels, diff_pixels)"
   ]
  },
  {
   "cell_type": "code",
   "execution_count": 10,
   "metadata": {},
   "outputs": [
    {
     "ename": "NameError",
     "evalue": "name 'dicom_file' is not defined",
     "output_type": "error",
     "traceback": [
      "\u001b[0;31m---------------------------------------------------------------------------\u001b[0m",
      "\u001b[0;31mNameError\u001b[0m                                 Traceback (most recent call last)",
      "\u001b[0;32m<ipython-input-10-662e52ed7ccb>\u001b[0m in \u001b[0;36m<module>\u001b[0;34m()\u001b[0m\n\u001b[1;32m     40\u001b[0m \u001b[0mthresholds\u001b[0m \u001b[0;34m=\u001b[0m \u001b[0;34m[\u001b[0m\u001b[0;34m(\u001b[0m\u001b[0;36m60\u001b[0m\u001b[0;34m,\u001b[0m \u001b[0;36m100\u001b[0m\u001b[0;34m)\u001b[0m\u001b[0;34m,\u001b[0m \u001b[0;34m(\u001b[0m\u001b[0;36m140\u001b[0m\u001b[0;34m,\u001b[0m \u001b[0;36m160\u001b[0m\u001b[0;34m)\u001b[0m\u001b[0;34m,\u001b[0m \u001b[0;34m(\u001b[0m\u001b[0;36m150\u001b[0m\u001b[0;34m,\u001b[0m \u001b[0;36m170\u001b[0m\u001b[0;34m)\u001b[0m\u001b[0;34m]\u001b[0m\u001b[0;34m\u001b[0m\u001b[0m\n\u001b[1;32m     41\u001b[0m \u001b[0;34m\u001b[0m\u001b[0m\n\u001b[0;32m---> 42\u001b[0;31m \u001b[0mplt\u001b[0m\u001b[0;34m.\u001b[0m\u001b[0mimshow\u001b[0m\u001b[0;34m(\u001b[0m\u001b[0mnp\u001b[0m\u001b[0;34m.\u001b[0m\u001b[0mvstack\u001b[0m\u001b[0;34m(\u001b[0m\u001b[0;34m[\u001b[0m\u001b[0mfind_i_c_given_o_c\u001b[0m\u001b[0;34m(\u001b[0m\u001b[0mt\u001b[0m\u001b[0;34m)\u001b[0m \u001b[0;32mfor\u001b[0m \u001b[0mt\u001b[0m \u001b[0;32min\u001b[0m \u001b[0mthresholds\u001b[0m\u001b[0;34m]\u001b[0m\u001b[0;34m)\u001b[0m\u001b[0;34m)\u001b[0m\u001b[0;34m\u001b[0m\u001b[0m\n\u001b[0m",
      "\u001b[0;32m<ipython-input-10-662e52ed7ccb>\u001b[0m in \u001b[0;36m<listcomp>\u001b[0;34m(.0)\u001b[0m\n\u001b[1;32m     40\u001b[0m \u001b[0mthresholds\u001b[0m \u001b[0;34m=\u001b[0m \u001b[0;34m[\u001b[0m\u001b[0;34m(\u001b[0m\u001b[0;36m60\u001b[0m\u001b[0;34m,\u001b[0m \u001b[0;36m100\u001b[0m\u001b[0;34m)\u001b[0m\u001b[0;34m,\u001b[0m \u001b[0;34m(\u001b[0m\u001b[0;36m140\u001b[0m\u001b[0;34m,\u001b[0m \u001b[0;36m160\u001b[0m\u001b[0;34m)\u001b[0m\u001b[0;34m,\u001b[0m \u001b[0;34m(\u001b[0m\u001b[0;36m150\u001b[0m\u001b[0;34m,\u001b[0m \u001b[0;36m170\u001b[0m\u001b[0;34m)\u001b[0m\u001b[0;34m]\u001b[0m\u001b[0;34m\u001b[0m\u001b[0m\n\u001b[1;32m     41\u001b[0m \u001b[0;34m\u001b[0m\u001b[0m\n\u001b[0;32m---> 42\u001b[0;31m \u001b[0mplt\u001b[0m\u001b[0;34m.\u001b[0m\u001b[0mimshow\u001b[0m\u001b[0;34m(\u001b[0m\u001b[0mnp\u001b[0m\u001b[0;34m.\u001b[0m\u001b[0mvstack\u001b[0m\u001b[0;34m(\u001b[0m\u001b[0;34m[\u001b[0m\u001b[0mfind_i_c_given_o_c\u001b[0m\u001b[0;34m(\u001b[0m\u001b[0mt\u001b[0m\u001b[0;34m)\u001b[0m \u001b[0;32mfor\u001b[0m \u001b[0mt\u001b[0m \u001b[0;32min\u001b[0m \u001b[0mthresholds\u001b[0m\u001b[0;34m]\u001b[0m\u001b[0;34m)\u001b[0m\u001b[0;34m)\u001b[0m\u001b[0;34m\u001b[0m\u001b[0m\n\u001b[0m",
      "\u001b[0;32m<ipython-input-10-662e52ed7ccb>\u001b[0m in \u001b[0;36mfind_i_c_given_o_c\u001b[0;34m(thresholds)\u001b[0m\n\u001b[1;32m     31\u001b[0m                 \u001b[0mnew_poly\u001b[0m\u001b[0;34m.\u001b[0m\u001b[0mappend\u001b[0m\u001b[0;34m(\u001b[0m\u001b[0mp\u001b[0m\u001b[0;34m)\u001b[0m\u001b[0;34m\u001b[0m\u001b[0m\n\u001b[1;32m     32\u001b[0m     \u001b[0mnew_poly\u001b[0m \u001b[0;34m=\u001b[0m \u001b[0mlist\u001b[0m\u001b[0;34m(\u001b[0m\u001b[0mset\u001b[0m\u001b[0;34m(\u001b[0m\u001b[0mnew_poly\u001b[0m\u001b[0;34m)\u001b[0m\u001b[0;34m)\u001b[0m\u001b[0;34m\u001b[0m\u001b[0m\n\u001b[0;32m---> 33\u001b[0;31m     \u001b[0mimg_1\u001b[0m \u001b[0;34m=\u001b[0m \u001b[0mImage\u001b[0m\u001b[0;34m.\u001b[0m\u001b[0mfromarray\u001b[0m\u001b[0;34m(\u001b[0m\u001b[0mnp\u001b[0m\u001b[0;34m.\u001b[0m\u001b[0mcopy\u001b[0m\u001b[0;34m(\u001b[0m\u001b[0mdicom_file\u001b[0m\u001b[0;34m)\u001b[0m\u001b[0;34m)\u001b[0m\u001b[0;34m\u001b[0m\u001b[0m\n\u001b[0m\u001b[1;32m     34\u001b[0m     \u001b[0mimg_2\u001b[0m \u001b[0;34m=\u001b[0m \u001b[0mImage\u001b[0m\u001b[0;34m.\u001b[0m\u001b[0mfromarray\u001b[0m\u001b[0;34m(\u001b[0m\u001b[0mnp\u001b[0m\u001b[0;34m.\u001b[0m\u001b[0mcopy\u001b[0m\u001b[0;34m(\u001b[0m\u001b[0mdicom_file\u001b[0m\u001b[0;34m)\u001b[0m\u001b[0;34m)\u001b[0m\u001b[0;34m\u001b[0m\u001b[0m\n\u001b[1;32m     35\u001b[0m     \u001b[0mImageDraw\u001b[0m\u001b[0;34m.\u001b[0m\u001b[0mDraw\u001b[0m\u001b[0;34m(\u001b[0m\u001b[0mimg_1\u001b[0m\u001b[0;34m)\u001b[0m\u001b[0;34m.\u001b[0m\u001b[0mpolygon\u001b[0m\u001b[0;34m(\u001b[0m\u001b[0mxy\u001b[0m\u001b[0;34m=\u001b[0m\u001b[0mnew_poly\u001b[0m\u001b[0;34m,\u001b[0m \u001b[0moutline\u001b[0m\u001b[0;34m=\u001b[0m\u001b[0;36m1\u001b[0m\u001b[0;34m,\u001b[0m \u001b[0mfill\u001b[0m\u001b[0;34m=\u001b[0m\u001b[0;32mNone\u001b[0m\u001b[0;34m)\u001b[0m\u001b[0;34m\u001b[0m\u001b[0m\n",
      "\u001b[0;31mNameError\u001b[0m: name 'dicom_file' is not defined"
     ]
    },
    {
     "data": {
      "text/plain": [
       "<matplotlib.figure.Figure at 0x10e523a20>"
      ]
     },
     "metadata": {},
     "output_type": "display_data"
    }
   ],
   "source": [
    "def find_i_c_given_o_c(thresholds):\n",
    "    \"\"\"\n",
    "    Trying to use a simple thresholding algorithm to estimate i-contours given o-contours\n",
    "    The logic here is simple - we know the pixel intensities inside the i-contour, we know\n",
    "    the pixel intensities on the contour. \n",
    "    The intensities vary but the general consensus is that the difference between these \n",
    "    intensities can be thresholded around the mean differences. I've attempted to show that \n",
    "    this thresholding isn't always accurate. \n",
    "    As we can see in the third row, the chosen threshold yeilds a slightly better \n",
    "    estimate of the inner contour\n",
    "    \"\"\"\n",
    "    image = parsing.parse_dicom_file('../final_data/dicoms/SCD0000101/59.dcm')\n",
    "    o_contours = parsing.parse_contour_file(\n",
    "        '../final_data/contourfiles/SC-HF-I-1/o-contours/IM-0001-0059-ocontour-manual.txt')\n",
    "    o_region = Polygon(o_contours)\n",
    "    im_copy = np.copy(image)\n",
    "    points_inside = []\n",
    "    for index, pixel in np.ndenumerate(image):\n",
    "        # Unpack the index.\n",
    "        row, col = index\n",
    "        # We only need to look at spatial pixel data for one of the four channels.\n",
    "        point = Point(row, col)\n",
    "        if o_region.contains(point):\n",
    "            points_inside.append((row, col))\n",
    "    \n",
    "    new_poly = []\n",
    "    for p in points_inside:\n",
    "        for c in o_contours:\n",
    "            r = image[int(p[0]), int(p[1])] - image[int(c[0]), int(c[1])] \n",
    "            if r in range(thresholds[0], thresholds[1]):\n",
    "                new_poly.append(p)\n",
    "    new_poly = list(set(new_poly))\n",
    "    img_1 = Image.fromarray(np.copy(image))\n",
    "    img_2 = Image.fromarray(np.copy(image))\n",
    "    ImageDraw.Draw(img_1).polygon(xy=new_poly, outline=1, fill=None)\n",
    "    ImageDraw.Draw(img_2).polygon(xy=o_contours, outline=5, fill=None)\n",
    "    return np.hstack([img_1, img_2])\n",
    "    \n",
    "plt.figure(figsize=(20,20))\n",
    "thresholds = [(60, 100), (140, 160), (150, 170)]\n",
    "\n",
    "plt.title(\"\")\n",
    "plt.imshow(np.vstack([find_i_c_given_o_c(t) for t in thresholds]))"
   ]
  },
  {
   "cell_type": "code",
   "execution_count": null,
   "metadata": {},
   "outputs": [],
   "source": []
  }
 ],
 "metadata": {
  "kernelspec": {
   "display_name": "Python 3",
   "language": "python",
   "name": "python3"
  },
  "language_info": {
   "codemirror_mode": {
    "name": "ipython",
    "version": 3
   },
   "file_extension": ".py",
   "mimetype": "text/x-python",
   "name": "python",
   "nbconvert_exporter": "python",
   "pygments_lexer": "ipython3",
   "version": "3.6.1"
  }
 },
 "nbformat": 4,
 "nbformat_minor": 2
}
